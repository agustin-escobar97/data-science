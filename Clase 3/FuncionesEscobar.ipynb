{
 "cells": [
  {
   "cell_type": "code",
   "execution_count": 1,
   "metadata": {},
   "outputs": [
    {
     "name": "stdout",
     "output_type": "stream",
     "text": [
      "120\n"
     ]
    }
   ],
   "source": [
    "def fact(factorial):    #definimos la funcion aqui\n",
    "    for i in range (1, factorial):  #empezamos nuestra iteración la cual tendrá como límite de rango el argumento \"factorial\" ingresado\n",
    "        factorial = factorial * i   #acumulamos la multiplicación de factorial por i\n",
    "    return factorial #retornamos factorial para mostrar el resultado\n",
    "\n",
    "\n",
    "factorial = fact(5) #llamamos a la funcion fact y le pasamos un argumento para luego asignarlo a una variable\n",
    "\n",
    "print(factorial)"
   ]
  },
  {
   "cell_type": "code",
   "execution_count": 12,
   "metadata": {},
   "outputs": [
    {
     "name": "stdout",
     "output_type": "stream",
     "text": [
      "El numero inicial es más grande que el número final de la serie, por favor volver a intentar\n",
      "None\n"
     ]
    }
   ],
   "source": [
    "def serie(p, n): #definimos la funcion aqui\n",
    "    if p > n:\n",
    "        print(\"El número inicial es más grande que el número final de la serie, por favor volver a intentar\")\n",
    "        pass\n",
    "    else:\n",
    "        acum = 0 #inicializamos la variable acum\n",
    "        for i in range(p, n+1):  #empezamos nuestra iteración la cual tendrá como límite de rango el argumento \"n\" ingresado\n",
    "            acum = acum + i #acumulamos la información de i en una variable, la cual incrementará por i en cada iteración\n",
    "        return acum #retornamos acum para mostrar el resultado\n",
    "\n",
    "\n",
    "acumulador = serie(100, 10) #llamamos a la funcion serie y le pasamos un argumento para luego guardarlo en una variable\n",
    "                            #en este caso hacemos una comparacion en la que el inicial es mayor al numero final de la serie\n",
    "\n",
    "print(acumulador)"
   ]
  }
 ],
 "metadata": {
  "interpreter": {
   "hash": "b3ba2566441a7c06988d0923437866b63cedc61552a5af99d1f4fb67d367b25f"
  },
  "kernelspec": {
   "display_name": "Python 3.9.7 64-bit ('base': conda)",
   "language": "python",
   "name": "python3"
  },
  "language_info": {
   "codemirror_mode": {
    "name": "ipython",
    "version": 3
   },
   "file_extension": ".py",
   "mimetype": "text/x-python",
   "name": "python",
   "nbconvert_exporter": "python",
   "pygments_lexer": "ipython3",
   "version": "3.9.7"
  },
  "orig_nbformat": 4
 },
 "nbformat": 4,
 "nbformat_minor": 2
}
