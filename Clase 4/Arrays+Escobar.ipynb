{
 "cells": [
  {
   "cell_type": "code",
   "execution_count": 24,
   "metadata": {},
   "outputs": [],
   "source": [
    "import numpy as np"
   ]
  },
  {
   "cell_type": "markdown",
   "metadata": {},
   "source": [
    "Consigna 1"
   ]
  },
  {
   "cell_type": "code",
   "execution_count": 25,
   "metadata": {},
   "outputs": [
    {
     "name": "stdout",
     "output_type": "stream",
     "text": [
      "El tamaño del array es: 100\n",
      "La mediana del array es: 313.5\n"
     ]
    }
   ],
   "source": [
    "#1. Generar un array aleatorio de 100 elementos. Calcular la mediana correspondiente.\n",
    "\n",
    "numpy_100random = np.random.randint(100, 500, size=100, dtype=int) #asignamos el array con 100 elementos aleatorios en un rango de 100 a 500\n",
    "print(\"El tamaño del array es: \" + str(len(numpy_100random))) #corroboramos que sean 100 elementos\n",
    "print(\"La mediana del array es: \" + str(np.median(numpy_100random))) #usamos la funcion median de numpy"
   ]
  },
  {
   "cell_type": "markdown",
   "metadata": {},
   "source": [
    "Consigna 2"
   ]
  },
  {
   "cell_type": "code",
   "execution_count": 29,
   "metadata": {},
   "outputs": [
    {
     "name": "stdout",
     "output_type": "stream",
     "text": [
      "Casos de factorial \n",
      "\n",
      "120\n",
      "24\n",
      "************************************************************\n",
      "Casos de serie \n",
      "\n",
      "40\n",
      "El número inicial es más grande que el número final de la serie, por favor volver a intentar.\n"
     ]
    }
   ],
   "source": [
    "#Recordar los ejercicios con funciones para cálculo de factorial y suma de serie de la Clase 02. \n",
    "#Repetir ambos ejercicios, pero ahora utilizar las nuevas operaciones aprendidas con los ndarrays.\n",
    "\n",
    "#consigna de factorial\n",
    "def fact_np(factor): #declaramos la funcion, pasando como argumento el numero de factorial\n",
    "    numpy_factorial = np.arange(1, factor+1) #iniciamos y asignamos el array, sumamos +1 al factorial ya que es excluyente\n",
    "\n",
    "    x = np.prod([numpy_factorial]) #usamos la funcion prod de numpy\n",
    "    return x #retornamos x\n",
    "\n",
    "#---------------------------barra divisora :^)-----------------------------------------------------#\n",
    "\n",
    "#consigna de serie\n",
    "def serie_np(inicio_serie, fin_serie): #declaramos la funcion pasando como argumento el inicio y el final de la serie\n",
    "    if inicio_serie > fin_serie: #controlamos que el inicio sea mayor que el final de serie\n",
    "        x = (\"El número inicial es más grande que el número final de la serie, por favor volver a intentar.\") #usaremos x para retornar el error\n",
    "\n",
    "    else:\n",
    "        numpy_serie = np.arange(inicio_serie, fin_serie+1) #asignamos el array\n",
    "        x = np.sum(numpy_serie) #asignamos el resultado de la serie a x\n",
    "    \n",
    "    return x #retornamos x, ya sea devolviendo el error o el resultado\n",
    "\n",
    "#---------------------------barra divisora :^)-----------------------------------------------------#\n",
    "\n",
    "print(\"Casos de factorial \\n\")\n",
    "print(fact_np(5)) #probamos distintos casos de factorial\n",
    "print(fact_np(4))\n",
    "\n",
    "\n",
    "print(\"*\"*60)\n",
    "\n",
    "\n",
    "print(\"Casos de serie \\n\")\n",
    "print(serie_np(6, 10)) #probamos distintos casos de serie\n",
    "print(serie_np(5,4)) #en este caso probamos el caso en el que el inicio de la serie es mayor al final\n"
   ]
  },
  {
   "cell_type": "markdown",
   "metadata": {},
   "source": [
    "Consigna 3"
   ]
  },
  {
   "cell_type": "code",
   "execution_count": 27,
   "metadata": {},
   "outputs": [],
   "source": [
    "#En este link (https://sueldos.openqube.io/encuesta-sueldos-2020.02/)\n",
    "#se provee un archivo con los resultados de la Encuesta de Sueldos de Openqube de Febrero 2020.\n",
    "#Calcular y comparar media y mediana de los sueldos netos (columna AW).\n",
    "\n",
    "#ACLARACIÓN: al intentar hacer el array con todos los datos del archivo me tiraba un error\n",
    "#por lo que agregué unas cuantas líneas para poder cumplir el ejercicio\n",
    "\n",
    "ejercicio3_array = np.array([43000, 63000, 127000, 102000, 106000, 44000, 62400, 37500, 75000, 39000, 36800, 94621, 63000, 92000, 80000, 75000, 100000, 70000, 93000, 68000, 80000, 47950, 84000, 38460, 66000, 98700, 200000, 31000, 60000, 74000, 88900, 137000, 45000, 51000, 168000, 31955, 90000, 132000, 84000, 56000, 122000, 50138, 280000, 130000, 126500, 64500, 38943, 65023, 168000, 43824, 90000, 40000, 50000, 74144, 82000, 72000, 80000, 57117, 75000, 75000, 21995, 345420, 67000, 72000, 1571362, 130000, 36000, 49800, 265000, 47875, 40000, 55000, 111000, 80000, 150000, 80000, 44500, 48000, 100000, 93000, 300000, 50000, 78000, 74989, 34500, 48000, 106000, 95000, 125000, 42000, 120000, 41500, 102000, 34000, 280000, 55000, 65000, 85000, 199000, 140000, 92500, 43000, 29822, 117000, 35500, 27, 68768.51, 67, 14000, 80000, 49000, 95, 51209, 47000, 39000, 60963, 70000, 75700, 100000, 70000, 100000, 48000, 220000, 99000, 0, 71000, 0, 120000, 90000, 33200, 230000, 36900, 65000, 54000, 65000, 50888, 66815, 170000, 46750, 93000, 106000, 100000, 0, 88500, 44000, 84900, 65000, 48000, 240000, 84000, 48000, 55000, 56000, 51, 35200, 200000, 29500, 75000, 70000, 29880, 57000, 150000, 53000, 57000, 78400, 70, 95000, 92650, 62, 83000, 81000, 69000, 41500, 41500, 120000, 38000, 40700, 72000, 46000, 95000, 62500, 101000, 146000, 104000, 45000, 82000, 40000, 27500, 108000, 89000, 120000, 120000, 87000, 48000, 150000, 85000, 50000, 155000, 86000, 90000, 92000, 67000, 85000, 69, 52000, 56586, 92650, 73000, 89000, 87000, 170000, 47000, 65000, 68000, 100000, 70000, 93500, 93000, 153000, 40000, 80000, 94000, 54000, 38000, 105000, 80000, 127, 70000, 5000, 31500, 32125, 54000, 35674, 121000, 77000, 50000, 200000, 93000, 115000, 58500, 110000, 33560, 130000, 100000, 84000, 18.23, 2000000, 38000, 0, 27000, 83000, 60, 75000, 185000, 150000, 64552, 90000, 48000, 0, 40000, 165000, 77000, 37000, 88000, 169000, 105000, 500000, 41385.75, 68000, 68000, 40000, 230000, 380000, 21000, 50000, 44000, 29880, 43000, 32700, 34500, 19800, 32.8, 93000, 76000, 92000, 76000, 25000, 50400, 77000, 340000, 69000, 120000, 94000, 39, 44000, 70, 43050, 42413, 70000, 39800, 300000, 340099, 83000, 100000, 65000, 88000, 0, 45000, 430000, 35000, 68000, 89000, 0, 103330, 40000, 120000, 115000, 73500, 122000, 0, 167033, 50000, 120000, 422500, 41000, 0, 70500, 210000, 135000, 110000, 32900, 73500, 80000, 103057, 75000, 42000, 140000, 68000, 46200, 120000, 138500, 32000, 0, 95000, 65000, 47000, 91000, 144000, 83000, 50000, 53950, 43000, 54000, 56741, 64000, 45000, 0, 105000, 78000, 99000, 68000, 96000, 85000, 95000, 30000, 54946, 47400, 93000, 110000, 165000, 57967, 31495, 91000, 130000, 100000, 113000, 66393, 104000, 80000, 45000, 49000, 82000, 65343, 60000, 58000, 132000, 56400, 0, 50069.76, 60000, 40600, 48000, 44300, 41000, 53000, 16000, 40000, 90000, 32000, 140000, 100000, 22000, 38000, 88000, 38000, 62700, 270000, 2000000, 110000, 67, 38000, 75000, 35000, 58, 275000, 1000000, 49000, 62250, 130000, 75000, 220000, 52000, 85000, 95000, 71000, 115000, 0, 90000, 65000, 38000, 130000, 1, 130000, 62000, 200000, 16000, 35000, 0, 70000, 39000, 66000, 27000, 73000, 80000, 107, 380000, 65000, 75000, 84000, 58000, 50000, 72000, 108000, 100000, 86500, 62675, 180000, 80000, 80000, 14500, 160000, 55300, 0, 90000, 65000, 96000, 43600, 110000, 38000, 147497, 66528, 82000, 80000, 80000, 53000, 35000, 0, 110000, 80000, 84500, 54000, 0, 508000, 113000, 44000, 125000, 165000, 149000, 85, 66191.6, 72500, 75000, 67000, 60000, 95000, 112000, 50000, 77000, 55000, 104580, 130000, 69000, 330000, 100600, 85000, 75000, 150000, 250000, 97194, 140000, 240000, 134000, 41500, 77000, 40500, 110000, 109000, 88000, 250000, 175000, 69300, 75000, 0, 130000, 0, 86000, 121983, 141000, 202380, 78000, 65000, 58000, 110000, 100000, 100000, 0, 125000, 70000, 175000, 108000, 108000, 78000, 43000, 57000, 49882.17, 90000, 80000, 0, 72000, 79895, 86500, 58600, 180009, 90000, 76000, 90000, 42000, 144, 138000, 130000, 165000, 75900, 120000, 0, 73000, 40000, 74000, 65000, 140000, 108000, 48000, 43800, 136000, 43800, 102000, 76725, 59000, 65000, 160000, 101000, 101000])\n"
   ]
  },
  {
   "cell_type": "code",
   "execution_count": 28,
   "metadata": {},
   "outputs": [
    {
     "name": "stdout",
     "output_type": "stream",
     "text": [
      "la mediana y la media no son iguales\n",
      "\n",
      "la mediana es: 74000.0\n",
      "la media es: 94742.85855421687\n"
     ]
    }
   ],
   "source": [
    "#continuo aca ya que el array es muy grande\n",
    "\n",
    "mediana = np.median(ejercicio3_array)\n",
    "media = np.mean(ejercicio3_array)\n",
    "\n",
    "if media != mediana: #en el ejercicio decía que había que comparar media y mediana así que pongo este if totalmente inútil =^)\n",
    "    print(\"la mediana y la media no son iguales\")\n",
    "else:\n",
    "    print(\"la media y la mediana son iguales\")\n",
    "\n",
    "\n",
    "print(\"\\nla mediana es: \"+ str(mediana)) #la mediana es el valor del medio de un array ordenado\n",
    "print(\"la media es: \" + str(media)) #la media es el promedio de los elementos dentro del array"
   ]
  }
 ],
 "metadata": {
  "interpreter": {
   "hash": "b3ba2566441a7c06988d0923437866b63cedc61552a5af99d1f4fb67d367b25f"
  },
  "kernelspec": {
   "display_name": "Python 3.9.7 64-bit ('base': conda)",
   "language": "python",
   "name": "python3"
  },
  "language_info": {
   "codemirror_mode": {
    "name": "ipython",
    "version": 3
   },
   "file_extension": ".py",
   "mimetype": "text/x-python",
   "name": "python",
   "nbconvert_exporter": "python",
   "pygments_lexer": "ipython3",
   "version": "3.9.7"
  },
  "orig_nbformat": 4
 },
 "nbformat": 4,
 "nbformat_minor": 2
}
